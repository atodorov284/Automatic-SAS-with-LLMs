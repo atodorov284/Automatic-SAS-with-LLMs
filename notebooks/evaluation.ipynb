{
 "cells": [
  {
   "cell_type": "code",
   "execution_count": 2,
   "metadata": {},
   "outputs": [],
   "source": [
    "import sys\n",
    "import os\n",
    "import pandas as pd\n",
    "import numpy as np\n",
    "\n",
    "dirs_to_add = [\n",
    "    os.path.abspath('../src'),\n",
    "    os.path.abspath('../data')\n",
    "]\n",
    "for directory in dirs_to_add:\n",
    "    if directory not in sys.path:\n",
    "        sys.path.append(directory)\n",
    "\n",
    "from qwk import quadratic_weighted_kappa\n",
    "from read_data import get_num_labels, get_essay_sets"
   ]
  },
  {
   "cell_type": "code",
   "execution_count": null,
   "metadata": {},
   "outputs": [],
   "source": [
    "qwk_list = []\n",
    "\n",
    "for essay_set in get_essay_sets():\n",
    "    data_directory = os.path.join(os.path.abspath(os.path.join('..')), \n",
    "                                  'data',\n",
    "                                  'predictions',\n",
    "                                  f'test_data_predictions_{int(essay_set)}.csv')\n",
    "    \n",
    "    test_set = pd.read_csv(data_directory)\n",
    "    unique_labels = get_num_labels(essay_set)\n",
    "        \n",
    "    qwk = quadratic_weighted_kappa(\n",
    "        test_set['Score1'], \n",
    "        test_set['model_prediction'], \n",
    "        min_rating=0, \n",
    "        max_rating=unique_labels\n",
    "    )\n",
    "    \n",
    "    qwk_list.append(qwk)\n",
    "    \n",
    "    print(f\"Essay Set {essay_set}: QWK = {qwk}\")"
   ]
  },
  {
   "cell_type": "code",
   "execution_count": 4,
   "metadata": {},
   "outputs": [
    {
     "name": "stdout",
     "output_type": "stream",
     "text": [
      "Essay Set 1.0: QWK = 0.8453992915921513\n",
      "Essay Set 2.0: QWK = 0.8108073190032461\n",
      "Essay Set 3.0: QWK = 0.6880394067040793\n",
      "Essay Set 4.0: QWK = 0.723720329404166\n",
      "Essay Set 5.0: QWK = 0.7566265060240964\n",
      "Essay Set 6.0: QWK = 0.8081007590821117\n",
      "Essay Set 7.0: QWK = 0.6880859469704157\n",
      "Essay Set 8.0: QWK = 0.5072898887495116\n",
      "Essay Set 9.0: QWK = 0.8423846514660962\n",
      "Essay Set 10.0: QWK = 0.770996970474256\n",
      "Avg QWK: 0.744145106947013\n"
     ]
    }
   ],
   "source": [
    "\n",
    "### good ##\n",
    "qwk_list = []\n",
    "for essay_set in get_essay_sets():\n",
    "    data_directory = os.path.join(os.path.abspath(os.path.join('..')), \n",
    "                                  'data',\n",
    "                                  'predictions',\n",
    "                                  'test_set_with_predictions.csv')\n",
    "    test_set = pd.read_csv(data_directory)\n",
    "\n",
    "    test_set_filtered = test_set[test_set['EssaySet'] == essay_set]\n",
    "\n",
    "    unique_labels = get_num_labels(essay_set)\n",
    "    \n",
    "    qwk = quadratic_weighted_kappa(\n",
    "        test_set_filtered['Score1'], \n",
    "        test_set_filtered['model_prediction'], \n",
    "        min_rating=0, \n",
    "        max_rating=unique_labels\n",
    "    )\n",
    "    \n",
    "    print(f\"Essay Set {essay_set}: QWK = {qwk}\")\n",
    "    qwk_list.append(qwk)\n",
    "\n",
    "print(\"Avg QWK:\", np.mean(qwk_list))"
   ]
  }
 ],
 "metadata": {
  "kernelspec": {
   "display_name": "LLM",
   "language": "python",
   "name": "python3"
  },
  "language_info": {
   "codemirror_mode": {
    "name": "ipython",
    "version": 3
   },
   "file_extension": ".py",
   "mimetype": "text/x-python",
   "name": "python",
   "nbconvert_exporter": "python",
   "pygments_lexer": "ipython3",
   "version": "3.11.8"
  }
 },
 "nbformat": 4,
 "nbformat_minor": 2
}
