{
 "cells": [
  {
   "cell_type": "code",
   "execution_count": 7,
   "metadata": {},
   "outputs": [],
   "source": [
    "import sys\n",
    "import os\n",
    "import pandas as pd\n",
    "import numpy as np\n",
    "\n",
    "directory = os.path.abspath('../src')\n",
    "if directory not in sys.path:\n",
    "    sys.path.append(directory)\n",
    "\n",
    "from qwk import quadratic_weighted_kappa\n",
    "from read_data import get_num_labels, get_essay_sets"
   ]
  },
  {
   "cell_type": "code",
   "execution_count": 9,
   "metadata": {},
   "outputs": [
    {
     "name": "stdout",
     "output_type": "stream",
     "text": [
      "Essay Set 1.0: QWK = 0.8453992915921513\n",
      "Essay Set 2.0: QWK = 0.8108073190032461\n",
      "Essay Set 3.0: QWK = 0.6880394067040793\n",
      "Essay Set 4.0: QWK = 0.723720329404166\n",
      "Essay Set 5.0: QWK = 0.7566265060240964\n",
      "Essay Set 6.0: QWK = 0.8081007590821117\n",
      "Essay Set 7.0: QWK = 0.6880859469704157\n",
      "Essay Set 8.0: QWK = 0.5072898887495116\n",
      "Essay Set 9.0: QWK = 0.8423846514660962\n",
      "Essay Set 10.0: QWK = 0.770996970474256\n",
      "Avg QWK: 0.744145106947013\n"
     ]
    }
   ],
   "source": [
    "qwk_list = []\n",
    "for essay_set in get_essay_sets():\n",
    "    data_directory = os.path.join(os.path.abspath(os.path.join('..')), \n",
    "                                  'data',\n",
    "                                  'predictions',\n",
    "                                  'test_set_with_predictions.csv')\n",
    "    test_set = pd.read_csv(data_directory)\n",
    "\n",
    "    test_set_filtered = test_set[test_set['EssaySet'] == essay_set]\n",
    "\n",
    "    unique_labels = get_num_labels(essay_set)\n",
    "    \n",
    "    qwk = quadratic_weighted_kappa(\n",
    "        test_set_filtered['Score1'], \n",
    "        test_set_filtered['model_prediction'], \n",
    "        min_rating=0, \n",
    "        max_rating=unique_labels\n",
    "    )\n",
    "    \n",
    "    print(f\"Essay Set {essay_set}: QWK = {qwk}\")\n",
    "    qwk_list.append(qwk)\n",
    "\n",
    "print(\"Avg QWK:\", np.mean(qwk_list))"
   ]
  },
  {
   "cell_type": "code",
   "execution_count": 11,
   "metadata": {},
   "outputs": [
    {
     "name": "stdout",
     "output_type": "stream",
     "text": [
      "Essay Set 1.0: QWK = 0.003318952180233481\n",
      "Essay Set 2.0: QWK = -0.0035764665650250826\n",
      "Essay Set 3.0: QWK = 0.010172235852496159\n",
      "Essay Set 4.0: QWK = 0.038664151128317004\n",
      "Essay Set 5.0: QWK = -0.009816906895208533\n",
      "Essay Set 6.0: QWK = 0.014581341316493801\n",
      "Essay Set 7.0: QWK = -0.00735237713092074\n",
      "Essay Set 8.0: QWK = -0.06210502386906147\n",
      "Essay Set 9.0: QWK = -0.011245811543447282\n",
      "Essay Set 10.0: QWK = -0.07843500903193257\n",
      "Avg QWK: -0.010579491455805523\n"
     ]
    }
   ],
   "source": [
    "qwk_benchmark_list = []\n",
    "for essay_set in get_essay_sets():\n",
    "    data_directory = os.path.join(os.path.abspath(os.path.join('..')), \n",
    "                                  'data',\n",
    "                                  'predictions',\n",
    "                                  'test_set_with_benchmark_predictions.csv')\n",
    "    test_set = pd.read_csv(data_directory)\n",
    "\n",
    "    test_set_filtered = test_set[test_set['EssaySet'] == essay_set]\n",
    "\n",
    "    unique_labels = get_num_labels(essay_set)\n",
    "    \n",
    "    qwk = quadratic_weighted_kappa(\n",
    "        test_set_filtered['Score1'], \n",
    "        test_set_filtered['benchmark_prediction'], \n",
    "        min_rating=0, \n",
    "        max_rating=unique_labels\n",
    "    )\n",
    "    \n",
    "    print(f\"Essay Set {essay_set}: QWK = {qwk}\")\n",
    "    qwk_benchmark_list.append(qwk)\n",
    "\n",
    "print(\"Avg QWK:\", np.mean(qwk_benchmark_list))"
   ]
  }
 ],
 "metadata": {
  "kernelspec": {
   "display_name": "LLM",
   "language": "python",
   "name": "python3"
  },
  "language_info": {
   "codemirror_mode": {
    "name": "ipython",
    "version": 3
   },
   "file_extension": ".py",
   "mimetype": "text/x-python",
   "name": "python",
   "nbconvert_exporter": "python",
   "pygments_lexer": "ipython3",
   "version": "3.11.8"
  }
 },
 "nbformat": 4,
 "nbformat_minor": 2
}
