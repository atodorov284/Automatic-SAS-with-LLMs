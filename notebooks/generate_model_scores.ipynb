{
 "cells": [
  {
   "cell_type": "code",
   "execution_count": null,
   "metadata": {},
   "outputs": [],
   "source": [
    "import os\n",
    "import sys\n",
    "import pandas as pd\n",
    "\n",
    "directory =  os.path.abspath('../src')\n",
    "if directory not in sys.path:\n",
    "    sys.path.append(directory)\n",
    "    \n",
    "from finetuned_models import score_essay\n",
    "from read_data import get_essay_sets"
   ]
  },
  {
   "cell_type": "code",
   "execution_count": 2,
   "metadata": {},
   "outputs": [],
   "source": [
    "current_dir = os.path.dirname(os.path.realpath('__file__'))\n",
    "parent_dir = os.path.dirname(current_dir)\n",
    "sys.path.append(parent_dir)\n",
    "data_directory = os.path.join(parent_dir, 'data', 'test_set_with_features.csv')\n",
    "test_set = pd.read_csv(data_directory)"
   ]
  },
  {
   "cell_type": "code",
   "execution_count": null,
   "metadata": {},
   "outputs": [],
   "source": [
    "from tqdm.notebook import tqdm\n",
    "import pandas as pd\n",
    "\n",
    "tqdm.pandas()\n",
    "\n",
    "all_data = pd.DataFrame()\n",
    "\n",
    "for essay_set in get_essay_sets():\n",
    "    print(f\"Processing Essay Set {essay_set}\")\n",
    "\n",
    "    test_set_filtered = test_set[test_set['EssaySet'] == essay_set].copy()\n",
    "\n",
    "    test_set_filtered['model_prediction'] = test_set_filtered.progress_apply(\n",
    "        lambda x: score_essay(x['EssayText'], x['EssaySet']),\n",
    "        axis=1\n",
    "    )\n",
    "\n",
    "    all_data = pd.concat([all_data, test_set_filtered], ignore_index=True)\n",
    "    \n",
    "all_data.to_csv(\"test_set_with_predictions.csv\")\n"
   ]
  }
 ],
 "metadata": {
  "kernelspec": {
   "display_name": ".venv",
   "language": "python",
   "name": "python3"
  },
  "language_info": {
   "codemirror_mode": {
    "name": "ipython",
    "version": 3
   },
   "file_extension": ".py",
   "mimetype": "text/x-python",
   "name": "python",
   "nbconvert_exporter": "python",
   "pygments_lexer": "ipython3",
   "version": "3.11.8"
  }
 },
 "nbformat": 4,
 "nbformat_minor": 2
}
