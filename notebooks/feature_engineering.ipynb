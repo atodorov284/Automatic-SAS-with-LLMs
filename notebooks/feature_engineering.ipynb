{
 "cells": [
  {
   "cell_type": "code",
   "execution_count": null,
   "metadata": {},
   "outputs": [],
   "source": [
    "!python -m pip install pandas texstat"
   ]
  },
  {
   "cell_type": "code",
   "execution_count": null,
   "metadata": {},
   "outputs": [],
   "source": [
    "import pandas as pd\n",
    "import textstat"
   ]
  },
  {
   "cell_type": "code",
   "execution_count": null,
   "metadata": {},
   "outputs": [],
   "source": [
    "def readability(essay):\n",
    "    return textstat.flesch_reading_ease(essay)\n",
    "\n",
    "def ttr(essay):\n",
    "    words = essay.split()\n",
    "    unique_words = set(words)\n",
    "    return len(unique_words) / len(words)"
   ]
  },
  {
   "cell_type": "code",
   "execution_count": null,
   "metadata": {},
   "outputs": [],
   "source": [
    "test_set = pd.read_csv(\"data/joint_test_dataset.csv\")\n",
    "test_set['Readability'] = test_set['EssayText'].apply(readability)\n",
    "test_set['TTR'] = test_set['EssayText'].apply(ttr)\n",
    "test_set"
   ]
  }
 ],
 "metadata": {
  "kernelspec": {
   "display_name": ".venv",
   "language": "python",
   "name": "python3"
  },
  "language_info": {
   "name": "python",
   "version": "3.11.8"
  }
 },
 "nbformat": 4,
 "nbformat_minor": 2
}
