{
 "cells": [
  {
   "cell_type": "code",
   "execution_count": null,
   "metadata": {},
   "outputs": [],
   "source": [
    "import pandas as pd\n",
    "import os\n",
    "\n",
    "project_root = os.path.abspath(os.path.join('..'))\n",
    "df_test = pd.read_csv(os.path.join(project_root, 'data', 'test_set_with_features.csv'))\n",
    "\n",
    "def min_max_scale(column):\n",
    "    return (column - column.min()) / (column.max() - column.min())\n",
    "\n",
    "df_test['Readability_Scaled'] = min_max_scale(df_test['Readability'])\n",
    "\n",
    "print(df_test)\n",
    "df_test.to"
   ]
  }
 ],
 "metadata": {
  "kernelspec": {
   "display_name": ".venv",
   "language": "python",
   "name": "python3"
  },
  "language_info": {
   "name": "python",
   "version": "3.11.8"
  }
 },
 "nbformat": 4,
 "nbformat_minor": 2
}
