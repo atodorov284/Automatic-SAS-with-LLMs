{
 "cells": [
  {
   "cell_type": "code",
   "execution_count": 19,
   "metadata": {},
   "outputs": [
    {
     "data": {
      "text/html": [
       "<div>\n",
       "<style scoped>\n",
       "    .dataframe tbody tr th:only-of-type {\n",
       "        vertical-align: middle;\n",
       "    }\n",
       "\n",
       "    .dataframe tbody tr th {\n",
       "        vertical-align: top;\n",
       "    }\n",
       "\n",
       "    .dataframe thead th {\n",
       "        text-align: right;\n",
       "    }\n",
       "</style>\n",
       "<table border=\"1\" class=\"dataframe\">\n",
       "  <thead>\n",
       "    <tr style=\"text-align: right;\">\n",
       "      <th></th>\n",
       "      <th>Unnamed: 0</th>\n",
       "      <th>Id</th>\n",
       "      <th>EssaySet</th>\n",
       "      <th>EssayText</th>\n",
       "      <th>EssayWeights</th>\n",
       "      <th>Score1</th>\n",
       "      <th>Readability</th>\n",
       "      <th>TTR</th>\n",
       "      <th>model_prediction</th>\n",
       "    </tr>\n",
       "  </thead>\n",
       "  <tbody>\n",
       "    <tr>\n",
       "      <th>2842</th>\n",
       "      <td>2842</td>\n",
       "      <td>16316</td>\n",
       "      <td>6</td>\n",
       "      <td>translationtransformationrespiration</td>\n",
       "      <td>1</td>\n",
       "      <td>0</td>\n",
       "      <td>-724.79</td>\n",
       "      <td>1.0</td>\n",
       "      <td>0</td>\n",
       "    </tr>\n",
       "  </tbody>\n",
       "</table>\n",
       "</div>"
      ],
      "text/plain": [
       "      Unnamed: 0     Id  EssaySet                             EssayText  \\\n",
       "2842        2842  16316         6  translationtransformationrespiration   \n",
       "\n",
       "      EssayWeights  Score1  Readability  TTR  model_prediction  \n",
       "2842             1       0      -724.79  1.0                 0  "
      ]
     },
     "execution_count": 19,
     "metadata": {},
     "output_type": "execute_result"
    }
   ],
   "source": [
    "import pandas as pd\n",
    "import os\n",
    "\n",
    "project_root = os.path.abspath(os.path.join('..'))\n",
    "\n",
    "final_df = pd.DataFrame()\n",
    "for i in range(1, 11):\n",
    "    df_test = pd.read_csv(os.path.join(project_root, 'data', 'predictions', f'test_data_predictions_{i}.csv'))\n",
    "    final_df =pd.concat([final_df, df_test], axis=0, ignore_index=True)\n",
    "final_df\n",
    "\n",
    "final_df.to_csv(os.path.join(project_root, 'data', 'predictions', f'test_set_with_predictions.csv'))\n",
    "def min_max_scale(column):\n",
    "    return (column - column.min()) / (column.max() - column.min())\n",
    "\n",
    "final_df[final_df['Readability'] == final_df['Readability'].min()]\n"
   ]
  },
  {
   "cell_type": "code",
   "execution_count": 14,
   "metadata": {},
   "outputs": [
    {
     "data": {
      "text/plain": [
       "<bound method Series.min of 0       0.940804\n",
       "1       0.928015\n",
       "2       0.932412\n",
       "3       0.906810\n",
       "4       0.956809\n",
       "          ...   \n",
       "5219    0.960804\n",
       "5220    0.966442\n",
       "5221    0.958405\n",
       "5222    0.973204\n",
       "5223    0.978003\n",
       "Name: Readability, Length: 5224, dtype: float64>"
      ]
     },
     "execution_count": 14,
     "metadata": {},
     "output_type": "execute_result"
    }
   ],
   "source": [
    "final_df['Readability'] = min_max_scale(final_df['Readability'])\n",
    "\n",
    "final_df['Readability'].min"
   ]
  }
 ],
 "metadata": {
  "kernelspec": {
   "display_name": "LLM",
   "language": "python",
   "name": "python3"
  },
  "language_info": {
   "codemirror_mode": {
    "name": "ipython",
    "version": 3
   },
   "file_extension": ".py",
   "mimetype": "text/x-python",
   "name": "python",
   "nbconvert_exporter": "python",
   "pygments_lexer": "ipython3",
   "version": "3.11.8"
  }
 },
 "nbformat": 4,
 "nbformat_minor": 2
}
