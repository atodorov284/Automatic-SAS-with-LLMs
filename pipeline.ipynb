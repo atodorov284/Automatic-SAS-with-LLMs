{
 "cells": [
  {
   "cell_type": "code",
   "execution_count": null,
   "metadata": {},
   "outputs": [],
   "source": [
    "import transformers\n",
    "import torch\n",
    "from essay_scoring_model import EssayScoringModel\n",
    "from transformers import BertTokenizer"
   ]
  },
  {
   "cell_type": "code",
   "execution_count": null,
   "metadata": {},
   "outputs": [],
   "source": [
    "model_name = \"bert-base-uncased\"\n",
    "tokenizer = BertTokenizer.from_pretrained(model_name)"
   ]
  },
  {
   "cell_type": "code",
   "execution_count": null,
   "metadata": {},
   "outputs": [],
   "source": [
    "text_model = \"meta-llama/Meta-Llama-3-8B\"\n",
    "\n",
    "pipeline = transformers.pipeline(\"text-generation\", model=text_model, tokenizer=tokenizer  model_kwargs={\"torch_dtype\": torch.bfloat16}, device_map=\"auto\")\n",
    "prompt = \"Pretend you are a teacher, having to grade students\n",
    "answers on a particular topic thoroughly, clearly, and\n",
    "objectively. After receiving the description of the task,\n",
    "grade this answer considering grammar correctness, lexical richness, and content relevance and give a final score\n",
    "for the student on a scale 0-3 or 0-2, as specified in the\n",
    "task description. Provide detailed feedback and key areas\n",
    "for improvement\"\n",
    "pipeline(prompt)\n"
   ]
  }
 ],
 "metadata": {
  "language_info": {
   "name": "python"
  }
 },
 "nbformat": 4,
 "nbformat_minor": 2
}
