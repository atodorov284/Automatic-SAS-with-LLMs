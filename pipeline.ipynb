{
 "cells": [
  {
   "cell_type": "code",
   "execution_count": null,
   "metadata": {},
   "outputs": [],
   "source": [
    "import transformers\n",
    "import torch\n",
    "from essay_scoring_model import EssayScoringModel\n",
    "from transformers import BertTokenizer\n",
    "from src.prompt_creation import CreatePrompt\n",
    "import os\n",
    "import pandas as pd"
   ]
  },
  {
   "cell_type": "code",
   "execution_count": null,
   "metadata": {},
   "outputs": [],
   "source": [
    "model_name = \"bert-base-uncased\"\n",
    "tokenizer = BertTokenizer.from_pretrained(model_name)"
   ]
  },
  {
   "cell_type": "code",
   "execution_count": null,
   "metadata": {},
   "outputs": [],
   "source": [
    "text_model = \"meta-llama/Meta-Llama-3-8B\"\n",
    "\n",
    "pipeline = transformers.pipeline(\"text-generation\", model=text_model, tokenizer=tokenizer  model_kwargs={\"torch_dtype\": torch.bfloat16}, device_map=\"auto\")\n",
    "\n",
    "path = os.path.join(os.getcwd(), 'data', 'test.csv')\n",
    "get_prompt = CreatePrompt()\n",
    "df_test =pd.read_csv(path)\n",
    "\n",
    "pos = 0\n",
    "final_score = df_test['Score1'].iloc[pos]\n",
    "essay_set = df_test['EssaySet'].iloc[pos]\n",
    "readability = df_test['Readability'].iloc[pos]\n",
    "ttr = df_test['Readability'].iloc[pos]\n",
    "answer = df_test['EssayText'].iloc[pos]\n",
    "prompt = get_prompt.get_prompt(essay_set,final_score,readability, ttr, answer)\n",
    "\n",
    "pipeline(prompt)\n"
   ]
  }
 ],
 "metadata": {
  "language_info": {
   "name": "python"
  }
 },
 "nbformat": 4,
 "nbformat_minor": 2
}
