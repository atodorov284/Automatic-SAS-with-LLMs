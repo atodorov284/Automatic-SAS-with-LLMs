{
 "cells": [
  {
   "cell_type": "code",
   "execution_count": 1,
   "metadata": {},
   "outputs": [],
   "source": [
    "from loading import get_essay_sets, essays_by_set\n",
    "import os\n",
    "#import language_tool_python\n",
    "import pandas as pd\n",
    "# import spacy\n",
    "# from spacy_readability import Readability"
   ]
  },
  {
   "cell_type": "code",
   "execution_count": null,
   "metadata": {},
   "outputs": [],
   "source": [
    "\n",
    "def readabilty(essay):\n",
    "    nlp = spacy.load('en')\n",
    "    read = Readability(nlp)\n",
    "    nlp.add_pipe(read, last=True)\n",
    "    doc = nlp(essay)\n",
    "    doc._.flesch_kincaid_grade_level\n",
    "    doc._.flesch_kincaid_reading_ease\n",
    "    doc._.dale_chall\n",
    "    return doc._.flesch_kincaid_reading_ease"
   ]
  },
  {
   "cell_type": "code",
   "execution_count": 2,
   "metadata": {},
   "outputs": [],
   "source": [
    "# lexical variety -> [0, 1] -> need to make a scale 0-2\n",
    "def ttr(essay):\n",
    "    words = essay.split()\n",
    "    unique_words = set(words)\n",
    "    return len(unique_words) / len(words)\n",
    "\n"
   ]
  },
  {
   "cell_type": "code",
   "execution_count": 3,
   "metadata": {},
   "outputs": [],
   "source": [
    "def extract_features(essays, feature_functions):\n",
    "    return [[f(es) for f in feature_functions] for es in essays]"
   ]
  },
  {
   "cell_type": "code",
   "execution_count": 8,
   "metadata": {},
   "outputs": [
    {
     "name": "stdout",
     "output_type": "stream",
     "text": [
      "Making Features for Essay Set 1.0\n",
      "Making Features for Essay Set 2.0\n",
      "Making Features for Essay Set 3.0\n",
      "Making Features for Essay Set 4.0\n",
      "Making Features for Essay Set 5.0\n",
      "Making Features for Essay Set 6.0\n",
      "Making Features for Essay Set 7.0\n",
      "Making Features for Essay Set 8.0\n",
      "Making Features for Essay Set 9.0\n",
      "Making Features for Essay Set 10.0\n",
      "Features saved to /Users/juliabelloni/Desktop/LLM/Automatic-SAS-with-LLMs/features.csv\n"
     ]
    }
   ],
   "source": [
    "test_path = path = os.path.join(os.getcwd(), 'data', 'public_leaderboard_rel_2.tsv')\n",
    "feature_functions = [ttr, readabilty]\n",
    "df = pd.DataFrame()\n",
    "index = []\n",
    "for essay_set in get_essay_sets():\n",
    "        print(\"Making Features for Essay Set %s\" % essay_set)\n",
    "        # add essay set column and id\n",
    "        train = list(essays_by_set(essay_set))\n",
    "        #print(train[0])\n",
    "        features = extract_features([x[\"EssayText\"] for x in train], feature_functions)\n",
    "        essay_set_df = pd.DataFrame(features, columns=['TTR', 'Grammar'])\n",
    "        df = pd.concat([df, essay_set_df], ignore_index=True)\n",
    "        idx = [int(x[\"Id\"]) for x in train]\n",
    "        index.extend(idx)\n",
    "df['id']=index\n",
    "output_filename = f'features.csv'\n",
    "output_path = os.path.join(os.getcwd(), output_filename)\n",
    "df.to_csv(output_path, index=False)  # Save without row index\n",
    "print(f\"Features saved to {output_path}\")\n"
   ]
  },
  {
   "cell_type": "code",
   "execution_count": null,
   "metadata": {},
   "outputs": [],
   "source": [
    "import language_tool_python\n",
    "# grammar -> [0,1]\n",
    "def grammar(essay):\n",
    "    tool = language_tool_python.LanguageTool('en-US')\n",
    "    test_essay = \"This is a test.\"\n",
    "    matches = tool.check(test_essay)\n",
    "    print(matches)\n",
    "    matches = tool.check(essay)\n",
    "    sentences = essay.split(\".\")\n",
    "    tool.close()\n",
    "    return len(matches)/sentences\n",
    "grammar(\"yap yap\")"
   ]
  }
 ],
 "metadata": {
  "kernelspec": {
   "display_name": "LLM",
   "language": "python",
   "name": "python3"
  },
  "language_info": {
   "codemirror_mode": {
    "name": "ipython",
    "version": 3
   },
   "file_extension": ".py",
   "mimetype": "text/x-python",
   "name": "python",
   "nbconvert_exporter": "python",
   "pygments_lexer": "ipython3",
   "version": "3.11.8"
  }
 },
 "nbformat": 4,
 "nbformat_minor": 2
}
